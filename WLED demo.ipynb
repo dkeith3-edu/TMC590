{
 "cells": [
  {
   "cell_type": "code",
   "execution_count": 48,
   "id": "d6a35a3a",
   "metadata": {},
   "outputs": [],
   "source": [
    "import requests\n",
    "import json"
   ]
  },
  {
   "cell_type": "code",
   "execution_count": 66,
   "id": "d232ff08",
   "metadata": {},
   "outputs": [
    {
     "name": "stdout",
     "output_type": "stream",
     "text": [
      "<Response [200]>\n"
     ]
    }
   ],
   "source": [
    "lights = requests.get(\"http://wled-048fe4.local/json\")\n",
    "data = lights.json()\n",
    "print(lights)"
   ]
  },
  {
   "cell_type": "code",
   "execution_count": 61,
   "id": "d1e0d1fa",
   "metadata": {},
   "outputs": [
    {
     "name": "stdout",
     "output_type": "stream",
     "text": [
      "[255, 255, 255]\n",
      "{'state': {'on': True, 'bri': 128, 'transition': 7, 'ps': -1, 'pl': -1, 'ledmap': 0, 'AudioReactive': {'on': False}, 'nl': {'on': False, 'dur': 60, 'mode': 1, 'tbri': 0, 'rem': -1}, 'udpn': {'send': False, 'recv': True, 'sgrp': 1, 'rgrp': 1}, 'lor': 0, 'mainseg': 0, 'seg': [{'id': 0, 'start': 0, 'stop': 30, 'len': 30, 'grp': 1, 'spc': 0, 'of': 0, 'on': True, 'frz': False, 'bri': 255, 'cct': 127, 'set': 0, 'col': [[255, 255, 255], [0, 0, 0], [0, 0, 0]], 'fx': 0, 'sx': 128, 'ix': 128, 'pal': 0, 'c1': 128, 'c2': 128, 'c3': 16, 'sel': True, 'rev': False, 'mi': False, 'o1': False, 'o2': False, 'o3': False, 'si': 0, 'm12': 0}]}, 'info': {'ver': '0.15.0', 'vid': 2412100, 'cn': 'Kōsen', 'release': 'ESP32', 'leds': {'count': 30, 'pwr': 396, 'fps': 6, 'maxpwr': 850, 'maxseg': 32, 'bootps': 0, 'seglc': [1], 'lc': 1, 'rgbw': False, 'wv': 0, 'cct': 0}, 'str': False, 'name': 'WLED', 'udpport': 21324, 'simplifiedui': False, 'live': False, 'liveseg': -1, 'lm': '', 'lip': '', 'ws': 1, 'fxcount': 187, 'palcount': 71, 'cpalcount': 0, 'maps': [{'id': 0}], 'wifi': {'bssid': 'C8:9E:43:B3:97:F4', 'rssi': -32, 'signal': 100, 'channel': 8, 'ap': True}, 'fs': {'u': 12, 't': 983, 'pmt': 1747020987}, 'ndc': 0, 'arch': 'esp32', 'core': 'v3.3.6-16-gcc5440f6a2', 'clock': 240, 'flash': 4, 'lwip': 0, 'freeheap': 173968, 'uptime': 20, 'time': '2025-5-12, 03:36:36', 'u': {'AudioReactive': ['<button class=\"btn btn-xs\" onclick=\"requestJson({AudioReactive:{enabled:true}});\"><i class=\"icons off\">&#xe08f;</i></button>']}, 'opt': 79, 'brand': 'WLED', 'product': 'FOSS', 'mac': '8813bf048fe4', 'ip': '192.168.1.43'}, 'effects': ['Solid', 'Blink', 'Breathe', 'Wipe', 'Wipe Random', 'Random Colors', 'Sweep', 'Dynamic', 'Colorloop', 'Rainbow', 'Scan', 'Scan Dual', 'Fade', 'Theater', 'Theater Rainbow', 'Running', 'Saw', 'Twinkle', 'Dissolve', 'Dissolve Rnd', 'Sparkle', 'Sparkle Dark', 'Sparkle+', 'Strobe', 'Strobe Rainbow', 'Strobe Mega', 'Blink Rainbow', 'Android', 'Chase', 'Chase Random', 'Chase Rainbow', 'Chase Flash', 'Chase Flash Rnd', 'Rainbow Runner', 'Colorful', 'Traffic Light', 'Sweep Random', 'Chase 2', 'Aurora', 'Stream', 'Scanner', 'Lighthouse', 'Fireworks', 'Rain', 'Tetrix', 'Fire Flicker', 'Gradient', 'Loading', 'Rolling Balls', 'Fairy', 'Two Dots', 'Fairytwinkle', 'Running Dual', 'RSVD', 'Chase 3', 'Tri Wipe', 'Tri Fade', 'Lightning', 'ICU', 'Multi Comet', 'Scanner Dual', 'Stream 2', 'Oscillate', 'Pride 2015', 'Juggle', 'Palette', 'Fire 2012', 'Colorwaves', 'Bpm', 'Fill Noise', 'Noise 1', 'Noise 2', 'Noise 3', 'Noise 4', 'Colortwinkles', 'Lake', 'Meteor', 'Meteor Smooth', 'Railway', 'Ripple', 'Twinklefox', 'Twinklecat', 'Halloween Eyes', 'Solid Pattern', 'Solid Pattern Tri', 'Spots', 'Spots Fade', 'Glitter', 'Candle', 'Fireworks Starburst', 'Fireworks 1D', 'Bouncing Balls', 'Sinelon', 'Sinelon Dual', 'Sinelon Rainbow', 'Popcorn', 'Drip', 'Plasma', 'Percent', 'Ripple Rainbow', 'Heartbeat', 'Pacifica', 'Candle Multi', 'Solid Glitter', 'Sunrise', 'Phased', 'Twinkleup', 'Noise Pal', 'Sine', 'Phased Noise', 'Flow', 'Chunchun', 'Dancing Shadows', 'Washing Machine', 'Rotozoomer', 'Blends', 'TV Simulator', 'Dynamic Smooth', 'Spaceships', 'Crazy Bees', 'Ghost Rider', 'Blobs', 'Scrolling Text', 'Drift Rose', 'Distortion Waves', 'Soap', 'Octopus', 'Waving Cell', 'Pixels', 'Pixelwave', 'Juggles', 'Matripix', 'Gravimeter', 'Plasmoid', 'Puddles', 'Midnoise', 'Noisemeter', 'Freqwave', 'Freqmatrix', 'GEQ', 'Waterfall', 'Freqpixels', 'RSVD', 'Noisefire', 'Puddlepeak', 'Noisemove', 'Noise2D', 'Perlin Move', 'Ripple Peak', 'Firenoise', 'Squared Swirl', 'RSVD', 'DNA', 'Matrix', 'Metaballs', 'Freqmap', 'Gravcenter', 'Gravcentric', 'Gravfreq', 'DJ Light', 'Funky Plank', 'RSVD', 'Pulser', 'Blurz', 'Drift', 'Waverly', 'Sun Radiation', 'Colored Bursts', 'Julia', 'RSVD', 'RSVD', 'RSVD', 'Game Of Life', 'Tartan', 'Polar Lights', 'Swirl', 'Lissajous', 'Frizzles', 'Plasma Ball', 'Flow Stripe', 'Hiphotic', 'Sindots', 'DNA Spiral', 'Black Hole', 'Wavesins', 'Rocktaves', 'Akemi'], 'palettes': ['Default', '* Random Cycle', '* Color 1', '* Colors 1&2', '* Color Gradient', '* Colors Only', 'Party', 'Cloud', 'Lava', 'Ocean', 'Forest', 'Rainbow', 'Rainbow Bands', 'Sunset', 'Rivendell', 'Breeze', 'Red & Blue', 'Yellowout', 'Analogous', 'Splash', 'Pastel', 'Sunset 2', 'Beach', 'Vintage', 'Departure', 'Landscape', 'Beech', 'Sherbet', 'Hult', 'Hult 64', 'Drywet', 'Jul', 'Grintage', 'Rewhi', 'Tertiary', 'Fire', 'Icefire', 'Cyane', 'Light Pink', 'Autumn', 'Magenta', 'Magred', 'Yelmag', 'Yelblu', 'Orange & Teal', 'Tiamat', 'April Night', 'Orangery', 'C9', 'Sakura', 'Aurora', 'Atlantica', 'C9 2', 'C9 New', 'Temperature', 'Aurora 2', 'Retro Clown', 'Candy', 'Toxy Reaf', 'Fairy Reaf', 'Semi Blue', 'Pink Candy', 'Red Reaf', 'Aqua Flash', 'Yelblu Hot', 'Lite Light', 'Red Flash', 'Blink Red', 'Red Shift', 'Red Tide', 'Candy2']}\n"
     ]
    }
   ],
   "source": [
    "data[\"state\"][\"seg\"][0][\"col\"][0] = [255,255,255]"
   ]
  },
  {
   "cell_type": "code",
   "execution_count": 83,
   "id": "c5984cb4",
   "metadata": {},
   "outputs": [
    {
     "data": {
      "text/plain": [
       "<Response [200]>"
      ]
     },
     "execution_count": 83,
     "metadata": {},
     "output_type": "execute_result"
    }
   ],
   "source": [
    "requests.post(\"http://wled-048fe4.local/json\", json = {'seg' : [{'col' : [[255,0,255], [0,0,0], [0,0,0]]}]})"
   ]
  },
  {
   "cell_type": "code",
   "execution_count": null,
   "id": "cacb3224",
   "metadata": {},
   "outputs": [],
   "source": []
  },
  {
   "cell_type": "code",
   "execution_count": null,
   "id": "795f36a0",
   "metadata": {},
   "outputs": [],
   "source": []
  },
  {
   "cell_type": "code",
   "execution_count": null,
   "id": "10863dfa",
   "metadata": {},
   "outputs": [],
   "source": []
  }
 ],
 "metadata": {
  "kernelspec": {
   "display_name": "Python 3 (ipykernel)",
   "language": "python",
   "name": "python3"
  },
  "language_info": {
   "codemirror_mode": {
    "name": "ipython",
    "version": 3
   },
   "file_extension": ".py",
   "mimetype": "text/x-python",
   "name": "python",
   "nbconvert_exporter": "python",
   "pygments_lexer": "ipython3",
   "version": "3.9.7"
  }
 },
 "nbformat": 4,
 "nbformat_minor": 5
}
